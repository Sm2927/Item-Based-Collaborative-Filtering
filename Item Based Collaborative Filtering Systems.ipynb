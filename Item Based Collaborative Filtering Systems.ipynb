{
 "cells": [
  {
   "cell_type": "markdown",
   "metadata": {},
   "source": [
    "First Training Set"
   ]
  },
  {
   "cell_type": "code",
   "execution_count": null,
   "metadata": {},
   "outputs": [],
   "source": [
    "#!/usr/bin/env python3\n",
    "# -*- coding: utf-8 -*-\n",
    "\"\"\"\n",
    "Created on Thu Jun 21 12:23:31 2018\n",
    "\n",
    "@author: pooja\n",
    "\"\"\"\n",
    "\n",
    "import pandas as pd\n",
    "import numpy as np\n",
    "import time\n",
    "from math import sqrt\n",
    "from numpy import random\n",
    "from sklearn.metrics import mean_absolute_error,mean_squared_error\n",
    "\n",
    "\n",
    "\n",
    "\n",
    "\n",
    "cols=['userId','itemId','rating','timestamp']\n",
    "#reading data\n",
    "read_start_time=time.time()\n",
    "df=pd.read_table('ml-1m/ratings.dat',sep='::',header=None,names=cols)\n",
    "df.drop(columns=['timestamp'],inplace=True)\n",
    "read_end_time = time.time()\n",
    "print(\"Read time = \",read_end_time-read_start_time)\n",
    "\n",
    "\n",
    "# total user and movie\n",
    "n_users=df.userId.max()\n",
    "n_movie=df.itemId.max()\n",
    "\n",
    "\n",
    "\n",
    "#converting data to matrix form\n",
    "mat_start=time.time()\n",
    "rating=np.zeros((n_users,n_movie))\n",
    "for  row in df.itertuples():\n",
    "    rating[row[1]-1,row[2]-1]=row[3]\n",
    "mat_end=time.time()\n",
    "print(\"Matrix conversion time = \",mat_end-mat_start)\n",
    "\n",
    "\n",
    "#train_test_splitting\n",
    "trainset = np.copy(rating)\n",
    "testset=np.zeros((n_users,n_movie))\n",
    "#z for iterate over each row\n",
    "train_test=time.time()\n",
    "z=0\n",
    "for row in rating:\n",
    "    nz_in=np.nonzero(row)\n",
    "    per_20=int(len(nz_in[0])*0.2)\n",
    "    rand =random.choice(nz_in[0],per_20,replace=False)\n",
    "    for i in range(per_20):\n",
    "        testset[z,rand[i]] =rating[z,rand[i]]\n",
    "        trainset[z,rand[i]] = 0\n",
    "    z =z+1\n",
    "\n",
    "train_test_end=time.time()\n",
    "print(\"train_test split time = \",train_test_end-train_test)\n",
    "        \n",
    "\n",
    "#adjusted cosine similarity calculation\n",
    "def adj_c_sim(train_data):\n",
    "    start=time.time()\n",
    "    u_m = train_data.sum(axis=1)/(train_data !=0).sum(axis=1)\n",
    "    rating_m_sub = np.where((train_data !=0),train_data-u_m[:,None],train_data)\n",
    "    sim=np.zeros((n_movie,n_movie))\n",
    "    for i in range(n_movie):\n",
    "        print(i)\n",
    "        #st=time.time()\n",
    "        for j in range(i,n_movie):\n",
    "            num=0\n",
    "            dem1=0\n",
    "            dem2=0\n",
    "            set_c_u=np.where((train_data[:,i] !=0) * (train_data[:,j]) )[0]\n",
    "            for k in set_c_u:\n",
    "                num=num+rating_m_sub[k][i] * rating_m_sub[k][j]\n",
    "                dem1=dem1 + rating_m_sub[k][i]**2\n",
    "                dem2=dem2 + rating_m_sub[k][j]**2\n",
    "                sim[i,j] = num/sqrt(dem1*dem2 +10**-12)\n",
    "        #en=time.time()-st\n",
    "        #print(en)\n",
    "    end=time.time() -start\n",
    "    print(\"sim time = \",end)\n",
    "    return sim\n",
    "                \n",
    "sim=adj_c_sim(trainset)\n",
    "#copying below diagonl of similarity matrix\n",
    "upp_tr=np.triu(sim,k=1)\n",
    "upp_tr=upp_tr.T\n",
    "sim=sim+upp_tr\n",
    "\n",
    "sim=np.where((sim <0),0,sim)\n",
    "#save sim mat to sim.txt\n",
    "#np.savetxt('sim.txt',sim, fmt='%.4f',delimiter=' ')\n",
    "\n",
    "#prediction\n",
    "mul=trainset.dot(sim)\n",
    "div=np.zeros((n_users,n_movie))\n",
    "stt=time.time()\n",
    "for i in range(n_users) :\n",
    "    #print(i)\n",
    "    nzi=np.nonzero(trainset[i])\n",
    "    #print(nzi)\n",
    "    for j in range(n_movie):\n",
    "        sm=(sim[j,nzi]).sum()\n",
    "        div[i,j] = sm\n",
    "    endd=time.time() -stt\n",
    "    print(endd)\n",
    "    \n",
    "#np.nan_to_num(div,copy=False)\n",
    "pred=mul/div\n",
    "np.nan_to_num(pred,copy=False)\n",
    "#save pred mat to sim.txt\n",
    "#np.savetxt('pred.txt',pred, fmt='%.4f',delimiter=' ')\n",
    "\n",
    "#Error calculation\n",
    "\n",
    "MAE=mean_absolute_error(testset[testset!=0],pred[testset!=0])\n",
    "MSE=mean_squared_error(testset[testset!=0],pred[testset!=0])\n",
    "RMSE=sqrt(MSE)\n",
    "\n",
    "print(\"MAE = \",MAE)\n",
    "print(\"RMSE = \",RMSE)\n",
    "\n",
    "#precision,Recall,F1-measure\n",
    "pred_nz=pred[testset !=0]\n",
    "test_nz=testset[testset !=0]\n",
    "tp=0\n",
    "fp=0\n",
    "fn=0\n",
    "th=4 #threshold value\n",
    "for i in range(len(pred_nz)):\n",
    "    if test_nz[i] >=th and pred_nz[i] >=th:\n",
    "        tp+=1\n",
    "    elif test_nz[i] < th and pred_nz[i] >= th :\n",
    "        fp+=1\n",
    "    elif test_nz[i] >= th and pred_nz[i] < th :\n",
    "        fn+=1\n",
    "precision=tp/(tp+fp)\n",
    "recall=tp/(tp+fn)\n",
    "#f1 measure= 2*(precision *recall)/(precision +recall)\n",
    "f1_measure=2*(precision *recall)/(precision +recall)"
   ]
  },
  {
   "cell_type": "code",
   "execution_count": null,
   "metadata": {},
   "outputs": [],
   "source": [
    "arr = np.zeros((n_users,n_movie))\n",
    "for i in range(n_users):\n",
    "    for j in range(n_movie):\n",
    "        if testset[i,j]!=0 and pred[i,j]!=0:\n",
    "            arr[i][j] = testset[i,j]\n",
    "GIM = mean_absolute_error(testset[testset>3.5],pred[testset>3.5])\n",
    "GPIM = mean_absolute_error(testset[arr>3.5],pred[arr>3.5])\n",
    "\n",
    "print('GIM = ', GIM)\n",
    "print('GPIM = ', GPIM)"
   ]
  },
  {
   "cell_type": "code",
   "execution_count": null,
   "metadata": {},
   "outputs": [],
   "source": [
    "train1 = np.copy(rating)\n",
    "test1=np.zeros((n_users,n_movie))\n",
    "#z for iterate over each row\n",
    "train_test=time.time()\n",
    "z=0\n",
    "for row in rating:\n",
    "    nz_in=np.nonzero(row)\n",
    "    per_20=int(len(nz_in[0])*0.2)\n",
    "    rand =random.choice(nz_in[0],per_20,replace=False)\n",
    "    for i in range(per_20):\n",
    "        test1[z,rand[i]] =rating[z,rand[i]]\n",
    "        train1[z,rand[i]] = 0\n",
    "    z =z+1"
   ]
  },
  {
   "cell_type": "code",
   "execution_count": null,
   "metadata": {},
   "outputs": [],
   "source": [
    "train.shape"
   ]
  },
  {
   "cell_type": "code",
   "execution_count": null,
   "metadata": {},
   "outputs": [],
   "source": [
    "sim=adj_c_sim(train1)\n",
    "#copying below diagonl of similarity matrix\n",
    "upp_tr=np.triu(sim,k=1)\n",
    "upp_tr=upp_tr.T\n",
    "sim=sim+upp_tr\n",
    "\n",
    "sim=np.where((sim <0),0,sim)"
   ]
  },
  {
   "cell_type": "code",
   "execution_count": null,
   "metadata": {},
   "outputs": [],
   "source": [
    "mul=train1.dot(sim)\n",
    "div=np.zeros((n_users,n_movie))\n",
    "stt=time.time()\n",
    "for i in range(n_users) :\n",
    "    #print(i)\n",
    "    nzi=np.nonzero(train1[i])\n",
    "    #print(nzi)\n",
    "    for j in range(n_movie):\n",
    "        sm=(sim[j,nzi]).sum()\n",
    "        div[i,j] = sm\n",
    "    endd=time.time() -stt\n",
    "    print(endd)\n",
    "    \n",
    "#np.nan_to_num(div,copy=False)\n",
    "pred1=mul/div\n"
   ]
  },
  {
   "cell_type": "code",
   "execution_count": null,
   "metadata": {},
   "outputs": [],
   "source": [
    "np.nan_to_num(pred1,copy=False)"
   ]
  },
  {
   "cell_type": "code",
   "execution_count": null,
   "metadata": {},
   "outputs": [],
   "source": [
    "MAE1=mean_absolute_error(test1[test1!=0],pred1[test1!=0])\n",
    "MSE1=mean_squared_error(test1[test1!=0],pred1[test1!=0])\n",
    "RMSE1=sqrt(MSE1)\n",
    "\n",
    "print(\"MAE = \",MAE1)\n",
    "print(\"RMSE = \",RMSE1)"
   ]
  },
  {
   "cell_type": "code",
   "execution_count": null,
   "metadata": {},
   "outputs": [],
   "source": [
    "arr1 = np.zeros((n_users,n_movie))\n",
    "for i in range(n_users):\n",
    "    for j in range(n_movie):\n",
    "        if test1[i,j]!=0 and pred1[i,j]!=0:\n",
    "            arr1[i][j] = test1[i,j]\n",
    "GIM1 = mean_absolute_error(test1[test1>3.5],pred1[test1>3.5])\n",
    "GPIM1 = mean_absolute_error(test1[arr1>3.5],pred1[arr1>3.5])\n",
    "\n",
    "print('GIM = ', GIM1)\n",
    "print('GPIM = ', GPIM1)"
   ]
  },
  {
   "cell_type": "markdown",
   "metadata": {},
   "source": [
    "*Third Training Set*"
   ]
  },
  {
   "cell_type": "code",
   "execution_count": null,
   "metadata": {},
   "outputs": [],
   "source": [
    "train2 = np.copy(rating)\n",
    "test2=np.zeros((n_users,n_movie))\n",
    "#z for iterate over each row\n",
    "train_test=time.time()\n",
    "z=0\n",
    "for row in rating:\n",
    "    nz_in=np.nonzero(row)\n",
    "    per_20=int(len(nz_in[0])*0.2)\n",
    "    rand =random.choice(nz_in[0],per_20,replace=False)\n",
    "    for i in range(per_20):\n",
    "        test2[z,rand[i]] =rating[z,rand[i]]\n",
    "        train2[z,rand[i]] = 0\n",
    "    z =z+1"
   ]
  },
  {
   "cell_type": "code",
   "execution_count": null,
   "metadata": {},
   "outputs": [],
   "source": [
    "sim2=adj_c_sim(train2)\n",
    "#copying below diagonl of similarity matrix\n",
    "upp_tr=np.triu(sim2,k=1)\n",
    "upp_tr=upp_tr.T\n",
    "sim2=sim2+upp_tr\n",
    "\n",
    "sim2=np.where((sim2 <0),0,sim2)"
   ]
  },
  {
   "cell_type": "code",
   "execution_count": null,
   "metadata": {},
   "outputs": [],
   "source": [
    "mul=train2.dot(sim2)\n",
    "div=np.zeros((n_users,n_movie))\n",
    "stt=time.time()\n",
    "for i in range(n_users) :\n",
    "    #print(i)\n",
    "    nzi=np.nonzero(train2[i])\n",
    "    #print(nzi)\n",
    "    for j in range(n_movie):\n",
    "        sm=(sim2[j,nzi]).sum()\n",
    "        div[i,j] = sm\n",
    "    endd=time.time() -stt\n",
    "    print(endd)\n",
    "    \n",
    "#np.nan_to_num(div,copy=False)\n",
    "pred2=mul/div\n",
    "np.nan_to_num(pred2,copy=False)"
   ]
  },
  {
   "cell_type": "code",
   "execution_count": null,
   "metadata": {},
   "outputs": [],
   "source": []
  },
  {
   "cell_type": "code",
   "execution_count": null,
   "metadata": {},
   "outputs": [],
   "source": [
    "MAE2=mean_absolute_error(test2[test2!=0],pred2[test2!=0])\n",
    "MSE2=mean_squared_error(test2[test2!=0],pred2[test2!=0])\n",
    "RMSE2=sqrt(MSE2)\n",
    "\n",
    "print(\"MAE = \",MAE2)\n",
    "print(\"RMSE = \",RMSE2)"
   ]
  },
  {
   "cell_type": "code",
   "execution_count": null,
   "metadata": {},
   "outputs": [],
   "source": [
    "arr2 = np.zeros((n_users,n_movie))\n",
    "for i in range(n_users):\n",
    "    for j in range(n_movie):\n",
    "        if test2[i,j]!=0 and pred2[i,j]!=0:\n",
    "            arr2[i][j] = test2[i,j]\n",
    "GIM2 = mean_absolute_error(test2[test2>3.5],pred2[test2>3.5])\n",
    "GPIM2 = mean_absolute_error(test2[arr2>3.5],pred2[arr2>3.5])\n",
    "\n",
    "print('GIM = ', GIM2)\n",
    "print('GPIM = ', GPIM2)"
   ]
  },
  {
   "cell_type": "markdown",
   "metadata": {},
   "source": [
    "Fourth Training Set"
   ]
  },
  {
   "cell_type": "code",
   "execution_count": null,
   "metadata": {},
   "outputs": [],
   "source": [
    "train3 = np.copy(rating)\n",
    "test3=np.zeros((n_users,n_movie))\n",
    "#z for iterate over each row\n",
    "train_test=time.time()\n",
    "z=0\n",
    "for row in rating:\n",
    "    nz_in=np.nonzero(row)\n",
    "    per_20=int(len(nz_in[0])*0.2)\n",
    "    rand =random.choice(nz_in[0],per_20,replace=False)\n",
    "    for i in range(per_20):\n",
    "        test3[z,rand[i]] =rating[z,rand[i]]\n",
    "        train3[z,rand[i]] = 0\n",
    "    z =z+1"
   ]
  },
  {
   "cell_type": "code",
   "execution_count": null,
   "metadata": {},
   "outputs": [],
   "source": [
    "sim3=adj_c_sim(train3)\n",
    "#copying below diagonl of similarity matrix\n",
    "upp_tr=np.triu(sim3,k=1)\n",
    "upp_tr=upp_tr.T\n",
    "sim3=sim3+upp_tr\n",
    "\n",
    "sim3=np.where((sim3 <0),0,sim3)"
   ]
  },
  {
   "cell_type": "code",
   "execution_count": null,
   "metadata": {},
   "outputs": [],
   "source": [
    "mul=train3.dot(sim3)\n",
    "div=np.zeros((n_users,n_movie))\n",
    "stt=time.time()\n",
    "for i in range(n_users) :\n",
    "    #print(i)\n",
    "    nzi=np.nonzero(train3[i])\n",
    "    #print(nzi)\n",
    "    for j in range(n_movie):\n",
    "        sm=(sim3[j,nzi]).sum()\n",
    "        div[i,j] = sm\n",
    "    endd=time.time() -stt\n",
    "    print(endd)\n",
    "    \n",
    "#np.nan_to_num(div,copy=False)\n",
    "pred3=mul/div\n",
    "np.nan_to_num(pred3,copy=False)"
   ]
  },
  {
   "cell_type": "code",
   "execution_count": null,
   "metadata": {},
   "outputs": [],
   "source": [
    "MAE3=mean_absolute_error(test3[test3!=0],pred3[test3!=0])\n",
    "MSE3=mean_squared_error(test3[test3!=0],pred3[test3!=0])\n",
    "RMSE3=sqrt(MSE3)\n",
    "\n",
    "print(\"MAE = \",MAE3)\n",
    "print(\"RMSE = \",RMSE3)"
   ]
  },
  {
   "cell_type": "code",
   "execution_count": null,
   "metadata": {},
   "outputs": [],
   "source": [
    "arr3 = np.zeros((n_users,n_movie))\n",
    "for i in range(n_users):\n",
    "    for j in range(n_movie):\n",
    "        if test3[i,j]!=0 and pred3[i,j]!=0:\n",
    "            arr3[i][j] = test3[i,j]\n",
    "GIM3 = mean_absolute_error(test3[test3>3.5],pred3[test3>3.5])\n",
    "GPIM3 = mean_absolute_error(test3[arr3>3.5],pred3[arr3>3.5])\n",
    "\n",
    "print('GIM = ', GIM3)\n",
    "print('GPIM = ', GPIM3)"
   ]
  },
  {
   "cell_type": "markdown",
   "metadata": {},
   "source": [
    "Fifth Training Set"
   ]
  },
  {
   "cell_type": "code",
   "execution_count": null,
   "metadata": {},
   "outputs": [],
   "source": [
    "train4 = np.copy(rating)\n",
    "test4=np.zeros((n_users,n_movie))\n",
    "#z for iterate over each row\n",
    "train_test=time.time()\n",
    "z=0\n",
    "for row in rating:\n",
    "    nz_in=np.nonzero(row)\n",
    "    per_20=int(len(nz_in[0])*0.2)\n",
    "    rand =random.choice(nz_in[0],per_20,replace=False)\n",
    "    for i in range(per_20):\n",
    "        test4[z,rand[i]] =rating[z,rand[i]]\n",
    "        train4[z,rand[i]] = 0\n",
    "    z =z+1"
   ]
  },
  {
   "cell_type": "code",
   "execution_count": null,
   "metadata": {},
   "outputs": [],
   "source": [
    "sim4=adj_c_sim(train4)\n",
    "#copying below diagonl of similarity matrix\n",
    "upp_tr=np.triu(sim4,k=1)\n",
    "upp_tr=upp_tr.T\n",
    "sim4=sim4+upp_tr\n",
    "\n",
    "sim4=np.where((sim4 <0),0,sim4)"
   ]
  },
  {
   "cell_type": "code",
   "execution_count": null,
   "metadata": {},
   "outputs": [],
   "source": [
    "mul=train4.dot(sim4)\n",
    "div=np.zeros((n_users,n_movie))\n",
    "stt=time.time()\n",
    "for i in range(n_users) :\n",
    "    #print(i)\n",
    "    nzi=np.nonzero(train4[i])\n",
    "    #print(nzi)\n",
    "    for j in range(n_movie):\n",
    "        sm=(sim4[j,nzi]).sum()\n",
    "        div[i,j] = sm\n",
    "    endd=time.time() -stt\n",
    "    print(endd)\n",
    "    \n",
    "#np.nan_to_num(div,copy=False)\n",
    "pred4=mul/div\n",
    "np.nan_to_num(pred4,copy=False)"
   ]
  },
  {
   "cell_type": "code",
   "execution_count": null,
   "metadata": {},
   "outputs": [],
   "source": [
    "MAE4=mean_absolute_error(test4[test4!=0],pred4[test4!=0])\n",
    "MSE4=mean_squared_error(test4[test4!=0],pred4[test4!=0])\n",
    "RMSE4=sqrt(MSE4)\n",
    "\n",
    "print(\"MAE = \",MAE4)\n",
    "print(\"RMSE = \",RMSE4)"
   ]
  },
  {
   "cell_type": "code",
   "execution_count": null,
   "metadata": {},
   "outputs": [],
   "source": [
    "arr4 = np.zeros((n_users,n_movie))\n",
    "for i in range(n_users):\n",
    "    for j in range(n_movie):\n",
    "        if test4[i,j]!=0 and pred4[i,j]!=0:\n",
    "            arr4[i][j] = test4[i,j]\n",
    "GIM4 = mean_absolute_error(test4[test4>3.5],pred4[test4>3.5])\n",
    "GPIM4 = mean_absolute_error(test4[arr4>3.5],pred4[arr4>3.5])\n",
    "\n",
    "print('GIM = ', GIM4)\n",
    "print('GPIM = ', GPIM4)"
   ]
  },
  {
   "cell_type": "code",
   "execution_count": null,
   "metadata": {},
   "outputs": [],
   "source": [
    "d = {'Training Set':[1,2,3,4,5],'MAE':[MAE,MAE1,MAE2,MAE3,MAE4],'RMSE':[RMSE,RMSE1,RMSE2,RMSE3,RMSE4],'GIM':[GIM,GIM1,GIM2,GIM3,GIM4],'GPIM':[GPIM,GPIM1,GPIM2,GPIM3,GPIM4]}\n",
    "table = pd.DataFrame(data=d)"
   ]
  },
  {
   "cell_type": "code",
   "execution_count": null,
   "metadata": {},
   "outputs": [],
   "source": [
    "table"
   ]
  },
  {
   "cell_type": "code",
   "execution_count": null,
   "metadata": {},
   "outputs": [],
   "source": []
  }
 ],
 "metadata": {
  "kernelspec": {
   "display_name": "Python 3",
   "language": "python",
   "name": "python3"
  },
  "language_info": {
   "codemirror_mode": {
    "name": "ipython",
    "version": 3
   },
   "file_extension": ".py",
   "mimetype": "text/x-python",
   "name": "python",
   "nbconvert_exporter": "python",
   "pygments_lexer": "ipython3",
   "version": "3.6.4"
  }
 },
 "nbformat": 4,
 "nbformat_minor": 2
}
